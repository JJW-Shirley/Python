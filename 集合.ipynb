{
  "nbformat": 4,
  "nbformat_minor": 0,
  "metadata": {
    "colab": {
      "name": "Untitled2.ipynb",
      "provenance": [],
      "collapsed_sections": [],
      "authorship_tag": "ABX9TyPxMaMrvxDGpgKGR1R45WwF",
      "include_colab_link": true
    },
    "kernelspec": {
      "name": "python3",
      "display_name": "Python 3"
    }
  },
  "cells": [
    {
      "cell_type": "markdown",
      "metadata": {
        "id": "view-in-github",
        "colab_type": "text"
      },
      "source": [
        "<a href=\"https://colab.research.google.com/github/JJW-Shirley/Python/blob/master/%E9%9B%86%E5%90%88.ipynb\" target=\"_parent\"><img src=\"https://colab.research.google.com/assets/colab-badge.svg\" alt=\"Open In Colab\"/></a>"
      ]
    },
    {
      "cell_type": "markdown",
      "metadata": {
        "id": "GKkMtfXKU9MU",
        "colab_type": "text"
      },
      "source": [
        "# 集合\n",
        "集合的表示方法\n",
        "\n",
        "*   my_set = {\" \", \" \", \" \"} 用大括号{ }表示\n",
        "*   通过set()函数将列表、元组等可迭代的对象转换为集合  eg. a = set([\" \", \" \", \" \"])\n",
        "\n",
        "\n",
        "集合和元素的区别：\n",
        "\n",
        "*   集合里面的元素是无序的，列表中的元素是有序的。\n",
        "*   集合中不能有重复元素，列表中可以有重复元素。\n",
        "\n",
        "集合中元素的添加：\n",
        "\n",
        "\n",
        "\n",
        "\n"
      ]
    },
    {
      "cell_type": "code",
      "metadata": {
        "id": "NLazkB1YW9la",
        "colab_type": "code",
        "outputId": "ed985726-23a3-4c8e-edc4-c51222954dcf",
        "colab": {
          "base_uri": "https://localhost:8080/",
          "height": 35
        }
      },
      "source": [
        "my_set = {\"a\", \"b\", \"c\"}\n",
        "my_set. add(\"d\")\n",
        "print(my_set)      # 输出元素位置随机"
      ],
      "execution_count": 0,
      "outputs": [
        {
          "output_type": "stream",
          "text": [
            "{'c', 'a', 'd', 'b'}\n"
          ],
          "name": "stdout"
        }
      ]
    },
    {
      "cell_type": "markdown",
      "metadata": {
        "id": "__qudvZCerZt",
        "colab_type": "text"
      },
      "source": [
        "集合中元素的删除\n",
        "\n"
      ]
    },
    {
      "cell_type": "code",
      "metadata": {
        "id": "DHAs-N-YfB4Q",
        "colab_type": "code",
        "outputId": "7762e857-0c53-4d64-fd31-05d21c3b516c",
        "colab": {
          "base_uri": "https://localhost:8080/",
          "height": 35
        }
      },
      "source": [
        "my_set = {\"a\", \"b\", \"c\"}\n",
        "my_set. pop()\n",
        "print(my_set)      # pop：随机删除一个元素"
      ],
      "execution_count": 0,
      "outputs": [
        {
          "output_type": "stream",
          "text": [
            "{'a', 'b'}\n"
          ],
          "name": "stdout"
        }
      ]
    },
    {
      "cell_type": "code",
      "metadata": {
        "id": "pa862sjyfYC1",
        "colab_type": "code",
        "outputId": "0cfea5a0-1cf5-490d-d6bf-938f31771826",
        "colab": {
          "base_uri": "https://localhost:8080/",
          "height": 35
        }
      },
      "source": [
        "my_set = {\"a\", \"b\", \"c\"}\n",
        "my_set. remove(\"a\")\n",
        "print(my_set)      # remove:指定删除某个元素"
      ],
      "execution_count": 0,
      "outputs": [
        {
          "output_type": "stream",
          "text": [
            "{'c', 'b'}\n"
          ],
          "name": "stdout"
        }
      ]
    },
    {
      "cell_type": "code",
      "metadata": {
        "id": "b5HF7hiAfjBb",
        "colab_type": "code",
        "outputId": "4b38efcc-1665-4df4-d8cd-c7f6e23b8be9",
        "colab": {
          "base_uri": "https://localhost:8080/",
          "height": 35
        }
      },
      "source": [
        "my_set = {\"a\", \"b\", \"c\"}\n",
        "my_set. clear()\n",
        "print(my_set)      # clear：清除所有元素"
      ],
      "execution_count": 0,
      "outputs": [
        {
          "output_type": "stream",
          "text": [
            "set()\n"
          ],
          "name": "stdout"
        }
      ]
    },
    {
      "cell_type": "markdown",
      "metadata": {
        "id": "sh4dGm6ZiydO",
        "colab_type": "text"
      },
      "source": [
        "两个集合的交集\n",
        "\n",
        "intersection \"&\""
      ]
    },
    {
      "cell_type": "code",
      "metadata": {
        "id": "ulhjGii6i12Y",
        "colab_type": "code",
        "outputId": "d3ec8964-425f-4814-bde8-3df2acd4b011",
        "colab": {
          "base_uri": "https://localhost:8080/",
          "height": 53
        }
      },
      "source": [
        "set1 = {\"a\", \"b\", \"c\", \"d\"}\n",
        "set2 = {\"a\", \"b\", \"e\", \"f\"}\n",
        "print(set1&set2)\n",
        "print(set1. intersection(set2))"
      ],
      "execution_count": 0,
      "outputs": [
        {
          "output_type": "stream",
          "text": [
            "{'a', 'b'}\n",
            "{'a', 'b'}\n"
          ],
          "name": "stdout"
        }
      ]
    },
    {
      "cell_type": "markdown",
      "metadata": {
        "id": "t5eJosRAmoth",
        "colab_type": "text"
      },
      "source": [
        "两个集合的并集\n",
        "\n",
        "union  \"|\""
      ]
    },
    {
      "cell_type": "code",
      "metadata": {
        "id": "zL8Ce1N3mtid",
        "colab_type": "code",
        "outputId": "2b5f1c01-7247-4567-91da-11be1ac874ca",
        "colab": {
          "base_uri": "https://localhost:8080/",
          "height": 53
        }
      },
      "source": [
        "set1 = {\"a\", \"b\", \"c\", \"d\"}\n",
        "set2 = {\"a\", \"b\", \"e\", \"f\"}\n",
        "print(set1|set2)\n",
        "print(set1. union(set2))"
      ],
      "execution_count": 0,
      "outputs": [
        {
          "output_type": "stream",
          "text": [
            "{'c', 'd', 'e', 'f', 'a', 'b'}\n",
            "{'c', 'd', 'e', 'f', 'a', 'b'}\n"
          ],
          "name": "stdout"
        }
      ]
    },
    {
      "cell_type": "markdown",
      "metadata": {
        "id": "xiL4p9uWoTR0",
        "colab_type": "text"
      },
      "source": [
        "两个集合的差集\n",
        "\n",
        "difference  \"-\""
      ]
    },
    {
      "cell_type": "code",
      "metadata": {
        "id": "EyxUEI3Aotf8",
        "colab_type": "code",
        "outputId": "29ce06ac-4740-4f1a-d6ff-426504f57c85",
        "colab": {
          "base_uri": "https://localhost:8080/",
          "height": 53
        }
      },
      "source": [
        "set1 = {\"a\", \"b\", \"c\", \"d\"}\n",
        "set2 = {\"a\", \"b\", \"e\", \"f\"}\n",
        "print(set1-set2)  # 1-2和2-1的答案不同，差集表示的是第一个集合相比于第二个集合不同的元素\n",
        "print(set1. difference(set2))"
      ],
      "execution_count": 0,
      "outputs": [
        {
          "output_type": "stream",
          "text": [
            "{'c', 'd'}\n",
            "{'c', 'd'}\n"
          ],
          "name": "stdout"
        }
      ]
    },
    {
      "cell_type": "markdown",
      "metadata": {
        "id": "THzKXMlIpCfJ",
        "colab_type": "text"
      },
      "source": [
        "例题：选课系统\n"
      ]
    },
    {
      "cell_type": "code",
      "metadata": {
        "id": "_YvMNsPGr8Qe",
        "colab_type": "code",
        "colab": {}
      },
      "source": [
        "# 声明课程的字典\n",
        "courses = set([\"Python\", \"数据分析\", \"机器学习\", \"深度学习\", \"自动化办公\"])\n",
        "# 分别声明参加\"Python\", \"数据分析\", \"机器学习\", \"深度学习\", \"自动化办公\"课程的学员集合\n",
        "join_python_course_students = set([])\n",
        "join_data_analyze_course_students = set([])\n",
        "join_machine_learning_course_students = set([])\n",
        "join_deep_learning_course_students = set([])\n",
        "join_auto_office_course_students = set([])\n",
        "# 学生选课操作流程\n",
        "while True:\n",
        "\tstudent_name = input(\"请输入学生姓名，按q退出输入:\")\n",
        "\tif student_name == \"q\":\n",
        "\t\tbreak\n",
        "\t# 输出现有课程\n",
        "\tprint(courses)\n",
        "\t# 请输入你想参加的课程名称,多个课程使用逗号\",\"进行分割\n",
        "\tjoin_course_string = input(\"请输入你想参加的课程名称,多个课程使用逗号','进行分割\")\n",
        "\t# 根据课程判断，把学员名字添加到课程集合中\n",
        "\tstu_course = join_course_string.split(\",\")\n",
        "\tif \"Python\" in stu_course:\n",
        "\t\tjoin_python_course_students.add(student_name)\n",
        "\tif \"数据分析\" in stu_course:\n",
        "\t\tjoin_data_analyze_course_students.add(student_name)\n",
        "\tif \"机器学习\" in stu_course:\n",
        "\t\tjoin_machine_learning_course_students.add(student_name)\n",
        "\tif \"深度学习\" in stu_course:\n",
        "\t\tjoin_deep_learning_course_students.add(student_name)\n",
        "\tif \"自动化办公\" in stu_course:\n",
        "\t\tjoin_auto_office_course_students.add(student_name)\n",
        "# 输出同时参加\"Python\", \"数据分析\", \"机器学习\", \"深度学习\", \"自动化办公\" 5门课程的学生\n",
        "print(join_python_course_students & join_data_analyze_course_students & join_machine_learning_course_students\n",
        "\t  & join_deep_learning_course_students & join_auto_office_course_students)\n",
        "# 输出本次参与课程所有学生的名称\n",
        "print(join_python_course_students | join_data_analyze_course_students | join_machine_learning_course_students\n",
        "\t  | join_deep_learning_course_students | join_auto_office_course_students)\n",
        "# 输入只选择了Python，但是没有选择数据分析的学生\n",
        "print(join_python_course_students - join_data_analyze_course_students)\n"
      ],
      "execution_count": 0,
      "outputs": []
    }
  ]
}