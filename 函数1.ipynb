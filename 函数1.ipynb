{
  "nbformat": 4,
  "nbformat_minor": 0,
  "metadata": {
    "colab": {
      "name": "Untitled4.ipynb",
      "provenance": [],
      "authorship_tag": "ABX9TyMAeLCrB04vkzNVn73J0SaV",
      "include_colab_link": true
    },
    "kernelspec": {
      "name": "python3",
      "display_name": "Python 3"
    }
  },
  "cells": [
    {
      "cell_type": "markdown",
      "metadata": {
        "id": "view-in-github",
        "colab_type": "text"
      },
      "source": [
        "<a href=\"https://colab.research.google.com/github/JJW-Shirley/Python/blob/master/%E5%87%BD%E6%95%B01.ipynb\" target=\"_parent\"><img src=\"https://colab.research.google.com/assets/colab-badge.svg\" alt=\"Open In Colab\"/></a>"
      ]
    },
    {
      "cell_type": "markdown",
      "metadata": {
        "id": "rcQcA1dusI67",
        "colab_type": "text"
      },
      "source": [
        "# 函数\n",
        "如何声明一个函数：\n",
        "def + 函数的名字"
      ]
    },
    {
      "cell_type": "code",
      "metadata": {
        "id": "GlsxCfuzsl3P",
        "colab_type": "code",
        "colab": {
          "base_uri": "https://localhost:8080/",
          "height": 35
        },
        "outputId": "c9903935-5161-40d3-c25c-d7c15b0d4513"
      },
      "source": [
        "def my_print():\n",
        "  print(\"*****\")\n",
        "my_print()    # 函数调用"
      ],
      "execution_count": 1,
      "outputs": [
        {
          "output_type": "stream",
          "text": [
            "*****\n"
          ],
          "name": "stdout"
        }
      ]
    },
    {
      "cell_type": "markdown",
      "metadata": {
        "id": "YMcbFUPWs3yc",
        "colab_type": "text"
      },
      "source": [
        "### 函数的参数\n",
        "函数的参数就是在调用函数时（）里传递给函数的数据，这个数据可以是任意类型。"
      ]
    },
    {
      "cell_type": "code",
      "metadata": {
        "id": "TS_zW1FwtcOG",
        "colab_type": "code",
        "colab": {
          "base_uri": "https://localhost:8080/",
          "height": 35
        },
        "outputId": "89b1ae07-d73f-4b44-f1a7-e69d2765384a"
      },
      "source": [
        "def my_print(name):      # 声明一个函数并接收一个参数name\n",
        "  print(\"*****\" + name)   # name传递进来的时候，将其当作一个字符串使用\n",
        "my_print(\"林泽楠\")       # 调用函数，传递字符串林泽楠作为参数"
      ],
      "execution_count": 2,
      "outputs": [
        {
          "output_type": "stream",
          "text": [
            "*****林泽楠\n"
          ],
          "name": "stdout"
        }
      ]
    },
    {
      "cell_type": "markdown",
      "metadata": {
        "id": "0hDx3upZuAwT",
        "colab_type": "text"
      },
      "source": [
        "注：若调用函数my_print(\"12\")传递整数12作为参数，则系统会发生报错。\n",
        "\n",
        "原因是传入参数时，数据类型是整数，但在函数内部使用是，把这个参数当作了字符串来使用。\n",
        "\n",
        "所以在定义函数参数时，要知道函数所对应的参数会接收一个什么样数据类型的参数。"
      ]
    },
    {
      "cell_type": "markdown",
      "metadata": {
        "id": "5LKSJxVTvzYj",
        "colab_type": "text"
      },
      "source": [
        "### 若要返回一个或多值，用关键字“return”\n",
        "返回多个参数："
      ]
    },
    {
      "cell_type": "code",
      "metadata": {
        "id": "IfJBJLQUxrYD",
        "colab_type": "code",
        "colab": {
          "base_uri": "https://localhost:8080/",
          "height": 53
        },
        "outputId": "e5c74ef1-305f-42d6-a28e-f7a2bc047b44"
      },
      "source": [
        "def get_constellation():\n",
        "  return \"白羊座\", \"3.21-4.19\"\n",
        "constellation, birthday = get_constellation()\n",
        "print(constellation)\n",
        "print(birthday)"
      ],
      "execution_count": 4,
      "outputs": [
        {
          "output_type": "stream",
          "text": [
            "白羊座\n",
            "3.21-4.19\n"
          ],
          "name": "stdout"
        }
      ]
    }
  ]
}