{
  "nbformat": 4,
  "nbformat_minor": 0,
  "metadata": {
    "colab": {
      "name": "Untitled4.ipynb",
      "provenance": [],
      "authorship_tag": "ABX9TyOTlt8fveKaaMQzE1ax/AI+",
      "include_colab_link": true
    },
    "kernelspec": {
      "name": "python3",
      "display_name": "Python 3"
    }
  },
  "cells": [
    {
      "cell_type": "markdown",
      "metadata": {
        "id": "view-in-github",
        "colab_type": "text"
      },
      "source": [
        "<a href=\"https://colab.research.google.com/github/JJW-Shirley/Python/blob/master/%E5%87%BD%E6%95%B01.ipynb\" target=\"_parent\"><img src=\"https://colab.research.google.com/assets/colab-badge.svg\" alt=\"Open In Colab\"/></a>"
      ]
    },
    {
      "cell_type": "markdown",
      "metadata": {
        "id": "rcQcA1dusI67",
        "colab_type": "text"
      },
      "source": [
        "# 函数\n",
        "如何声明一个函数：\n",
        "def + 函数的名字"
      ]
    },
    {
      "cell_type": "code",
      "metadata": {
        "id": "GlsxCfuzsl3P",
        "colab_type": "code",
        "outputId": "c9903935-5161-40d3-c25c-d7c15b0d4513",
        "colab": {
          "base_uri": "https://localhost:8080/",
          "height": 35
        }
      },
      "source": [
        "def my_print():\n",
        "  print(\"*****\")\n",
        "my_print()    # 函数调用"
      ],
      "execution_count": 0,
      "outputs": [
        {
          "output_type": "stream",
          "text": [
            "*****\n"
          ],
          "name": "stdout"
        }
      ]
    },
    {
      "cell_type": "markdown",
      "metadata": {
        "id": "YMcbFUPWs3yc",
        "colab_type": "text"
      },
      "source": [
        "## 函数的参数\n"
      ]
    },
    {
      "cell_type": "markdown",
      "metadata": {
        "id": "NmbWkAPONqIO",
        "colab_type": "text"
      },
      "source": [
        "函数的参数就是在调用函数时（）里传递给函数的数据，这个数据可以是任意类型。\n"
      ]
    },
    {
      "cell_type": "markdown",
      "metadata": {
        "id": "cFqLx_xTN-8T",
        "colab_type": "text"
      },
      "source": [
        "### 必须参数\n",
        "上述参数指的就是必须参数，是指必须要传的参数，如果不传就会报错，并且参数必须**按照固定顺序**来进行传参。"
      ]
    },
    {
      "cell_type": "code",
      "metadata": {
        "id": "TS_zW1FwtcOG",
        "colab_type": "code",
        "outputId": "89b1ae07-d73f-4b44-f1a7-e69d2765384a",
        "colab": {
          "base_uri": "https://localhost:8080/",
          "height": 35
        }
      },
      "source": [
        "def my_print(name):      # 声明一个函数并接收一个参数name\n",
        "  print(\"*****\" + name)   # name传递进来的时候，将其当作一个字符串使用\n",
        "my_print(\"林泽楠\")       # 调用函数，传递字符串林泽楠作为参数"
      ],
      "execution_count": 0,
      "outputs": [
        {
          "output_type": "stream",
          "text": [
            "*****林泽楠\n"
          ],
          "name": "stdout"
        }
      ]
    },
    {
      "cell_type": "markdown",
      "metadata": {
        "id": "0hDx3upZuAwT",
        "colab_type": "text"
      },
      "source": [
        "注：若调用函数my_print(\"12\")传递整数12作为参数，则系统会发生报错。\n",
        "\n",
        "原因是传入参数时，数据类型是整数，但在函数内部使用是，把这个参数当作了字符串来使用。\n",
        "\n",
        "所以在定义函数参数时，要知道函数所对应的参数会接收一个什么样数据类型的参数。"
      ]
    },
    {
      "cell_type": "markdown",
      "metadata": {
        "id": "5LKSJxVTvzYj",
        "colab_type": "text"
      },
      "source": [
        "若要返回一个或多值，用关键字“**return**”\n",
        "返回多个参数："
      ]
    },
    {
      "cell_type": "code",
      "metadata": {
        "id": "IfJBJLQUxrYD",
        "colab_type": "code",
        "outputId": "e5c74ef1-305f-42d6-a28e-f7a2bc047b44",
        "colab": {
          "base_uri": "https://localhost:8080/",
          "height": 53
        }
      },
      "source": [
        "def get_constellation():\n",
        "  return \"白羊座\", \"3.21-4.19\"\n",
        "constellation, birthday = get_constellation()\n",
        "print(constellation)\n",
        "print(birthday)"
      ],
      "execution_count": 0,
      "outputs": [
        {
          "output_type": "stream",
          "text": [
            "白羊座\n",
            "3.21-4.19\n"
          ],
          "name": "stdout"
        }
      ]
    },
    {
      "cell_type": "markdown",
      "metadata": {
        "id": "wYT7a5kOOXng",
        "colab_type": "text"
      },
      "source": [
        "### 关键字参数\n",
        "关键字参数在进行函数调用传参的时候，指定参数的名称，无需管参数的传递顺序，只需按照名字来进行指定。"
      ]
    },
    {
      "cell_type": "code",
      "metadata": {
        "id": "8N1ie4DZPMfX",
        "colab_type": "code",
        "colab": {
          "base_uri": "https://localhost:8080/",
          "height": 53
        },
        "outputId": "3b5ba874-5981-4431-96ee-a78077cae78b"
      },
      "source": [
        "def my_function(param1,param2):\n",
        "  print(\"这是参数1{}\".format(param1))\n",
        "  print(\"这是参数2{}\".format(param2))\n",
        "my_function(param2=222,param1=111)"
      ],
      "execution_count": 3,
      "outputs": [
        {
          "output_type": "stream",
          "text": [
            "这是参数1111\n",
            "这是参数2222\n"
          ],
          "name": "stdout"
        }
      ]
    }
  ]
}